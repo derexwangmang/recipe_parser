{
 "cells": [
  {
   "cell_type": "code",
   "execution_count": 124,
   "metadata": {},
   "outputs": [],
   "source": [
    "import requests\n",
    "from bs4 import BeautifulSoup as bs\n",
    "from ParseMethods import parse_method\n",
    "# from parse_tools import parse_tool\n",
    "from parse_ingredients import parse_ingredient"
   ]
  },
  {
   "cell_type": "markdown",
   "metadata": {},
   "source": [
    "Take in a URL"
   ]
  },
  {
   "cell_type": "code",
   "execution_count": 125,
   "metadata": {},
   "outputs": [],
   "source": [
    "url = 'https://www.allrecipes.com/recipe/244716/shirataki-meatless-meat-pad-thai/'\n",
    "page = requests.get(url)\n",
    "soup = bs(page.content, \"html.parser\")"
   ]
  },
  {
   "cell_type": "code",
   "execution_count": 126,
   "metadata": {},
   "outputs": [],
   "source": [
    "title = soup.find(\"h1\", class_=\"headline heading-content elementFont__display\").text"
   ]
  },
  {
   "cell_type": "code",
   "execution_count": 127,
   "metadata": {},
   "outputs": [
    {
     "name": "stdout",
     "output_type": "stream",
     "text": [
      "('prep:', '10 mins')\n",
      "('cook:', '15 mins')\n",
      "('total:', '25 mins')\n",
      "('Servings:', '4')\n",
      "('Yield:', '4 servings')\n"
     ]
    }
   ],
   "source": [
    "recipe_info = soup.find_all(\"div\", class_=\"recipe-meta-item-header elementFont__subtitle--bold elementFont__transformCapitalize\")\n",
    "recipe_info = [x.text for x in recipe_info]\n",
    "recipe_info_details = soup.find_all(\"div\", class_=\"recipe-meta-item-body elementFont__subtitle\")\n",
    "recipe_info_details = [x.text[:-1] for x in recipe_info_details]\n",
    "\n",
    "recipe_info = zip(recipe_info, recipe_info_details)\n",
    "for item in recipe_info:\n",
    "  print(item)"
   ]
  },
  {
   "cell_type": "code",
   "execution_count": 128,
   "metadata": {},
   "outputs": [],
   "source": [
    "ingredients = soup.find_all(\"span\", class_=\"ingredients-item-name elementFont__body\")\n",
    "# ingredients = [x.text for x in ingredients]\n",
    "# need to translate some encodings and special characters\n",
    "# also need to learn how to distinguish ingredients and measurements"
   ]
  },
  {
   "cell_type": "code",
   "execution_count": 129,
   "metadata": {},
   "outputs": [
    {
     "name": "stdout",
     "output_type": "stream",
     "text": [
      "{188: '.25', 189: '.5', 190: '.75', 2930: '.25', 2931: '.5', 2932: '.75', 2933: '.0625', 2934: '.125', 2935: '.1875', 3422: '.2', 3443: '.25', 3444: '.5', 3445: '.75', 3446: '.0625', 3447: '.125', 3448: '.1875', 8528: '.14285714285714285', 8529: '.1111111111111111', 8531: '.3333333333333333', 8532: '.6666666666666666', 8533: '.2', 8534: '.4', 8535: '.6', 8536: '.8', 8537: '.16666666666666666', 8538: '.8333333333333334', 8539: '.125', 8540: '.375', 8541: '.625', 8542: '.875', 8585: '.0', 11517: '.5', 43056: '.25', 43057: '.5', 43058: '.75', 43059: '.0625', 43060: '.125', 43061: '.1875', 68029: '.5', 68168: '.5', 69243: '.5', 69244: '.25', 69245: '.3333333333333333', 69246: '.6666666666666666', 69414: '.5', 73673: '.0625', 73674: '.0625', 73676: '.125', 73678: '.1875', 73679: '.2', 73680: '.25', 73681: '.5', 73682: '.5', 73683: '.75', 126125: '.25', 126126: '.5', 126127: '.75', 126268: '.5', 126269: '.16666666666666666'}\n"
     ]
    }
   ],
   "source": [
    "# Source: https://stackoverflow.com/questions/15190930/python-beautifulsoup-parsing-html-fractions\n",
    "\n",
    "import unicodedata as ud\n",
    "import re\n",
    "\n",
    "numerator = {\n",
    "    'ONE':1,\n",
    "    'TWO':2,\n",
    "    'THREE':3,\n",
    "    'FOUR':4,\n",
    "    'FIVE':5,\n",
    "    'SIX':6,\n",
    "    'SEVEN':7,\n",
    "    'EIGHT':8,\n",
    "    'NINE':9,\n",
    "    'ZERO':0,\n",
    "    }\n",
    "\n",
    "denominator = {\n",
    "    'QUARTER':4,\n",
    "    'HALF':2,\n",
    "    'SEVENTH':7,\n",
    "    'NINTH':9,\n",
    "    'THIRD':3,\n",
    "    'FIFTH':5,\n",
    "    'SIXTH':6,\n",
    "    'EIGHTH':8,\n",
    "    'SIXTEENTH':16\n",
    "    }\n",
    "\n",
    "fraction = {}\n",
    "for num in range(0x110000):\n",
    "    s = chr(num)\n",
    "    try:\n",
    "        name = ud.name(s)\n",
    "    except ValueError:\n",
    "        continue\n",
    "    match = re.search('FRACTION ({n}) ({d})'.format(\n",
    "        n = '|'.join(numerator.keys()),\n",
    "        d = '|'.join(denominator.keys()),\n",
    "        ) , name)\n",
    "    if match:\n",
    "        fraction[num] = str(\n",
    "           float(numerator[match.group(1)])/denominator[match.group(2)]).lstrip('0')\n",
    "print(fraction)"
   ]
  },
  {
   "cell_type": "code",
   "execution_count": null,
   "metadata": {},
   "outputs": [],
   "source": []
  },
  {
   "cell_type": "code",
   "execution_count": 130,
   "metadata": {},
   "outputs": [
    {
     "name": "stdout",
     "output_type": "stream",
     "text": [
      "['2 (7 ounce) packages shirataki noodles, drained', '1 tablespoon vegetable oil', '1 (12 ounce) package tofu, cut into chunks', '.25 cup reduced-sodium soy sauce', '.5 cup lemon juice', '.25 cup white sugar', '2 tablespoons peanut butter', '1 tablespoon sriracha hot sauce', '2 eggs', '1 (4.5 ounce) can mushrooms', '.5 cup chopped cashews, divided', '1 cup bean sprouts', '1 lime, cut into wedges']\n"
     ]
    }
   ],
   "source": [
    "ingredients = [ingredient.text.strip().translate(fraction).encode('ascii', 'ignore').decode(\"utf-8\") for ingredient in ingredients]\n",
    "print(ingredients)"
   ]
  },
  {
   "cell_type": "code",
   "execution_count": 131,
   "metadata": {},
   "outputs": [
    {
     "name": "stdout",
     "output_type": "stream",
     "text": [
      "Doing split for 2  packages shirataki noodles, drained\n",
      "Ingredient(name='packages shirataki noodles', quantity=2.0, unit='', comment='(7 ounce)  drained', original_string='2 (7 ounce) packages shirataki noodles, drained')\n",
      "Doing split for 2  packages shirataki noodles, drained\n",
      "Ingredient(name='vegetable oil', quantity=1.0, unit='tbsp', comment='', original_string='1 tablespoon vegetable oil')\n",
      "Doing split for 1  package tofu, cut into chunks\n",
      "Ingredient(name='package tofu', quantity=1.0, unit='', comment='(12 ounce)  cut into chunks', original_string='1 (12 ounce) package tofu, cut into chunks')\n",
      "Doing split for 1  package tofu, cut into chunks\n",
      "Ingredient(name='reduced-sodium soy sauce', quantity=0.25, unit='cup', comment='', original_string='.25 cup reduced-sodium soy sauce')\n",
      "Ingredient(name='lemon juice', quantity=0.5, unit='cup', comment='', original_string='.5 cup lemon juice')\n",
      "Ingredient(name='white sugar', quantity=0.25, unit='cup', comment='', original_string='.25 cup white sugar')\n",
      "Ingredient(name='peanut butter', quantity=2.0, unit='tbsp', comment='', original_string='2 tablespoons peanut butter')\n",
      "Ingredient(name='sriracha hot sauce', quantity=1.0, unit='tbsp', comment='', original_string='1 tablespoon sriracha hot sauce')\n",
      "Ingredient(name='eggs', quantity=2.0, unit='', comment='', original_string='2 eggs')\n",
      "Ingredient(name='can mushrooms', quantity=1.0, unit='', comment='(4.5 ounce)', original_string='1 (4.5 ounce) can mushrooms')\n",
      "Doing split for .5 cup chopped cashews, divided\n",
      "Ingredient(name='chopped cashews', quantity=0.5, unit='cup', comment='divided', original_string='.5 cup chopped cashews, divided')\n",
      "Doing split for .5 cup chopped cashews, divided\n",
      "Ingredient(name='bean sprouts', quantity=1.0, unit='cup', comment='', original_string='1 cup bean sprouts')\n",
      "Doing split for 1 lime, cut into wedges\n",
      "Ingredient(name='lime', quantity=1.0, unit='', comment='cut into wedges', original_string='1 lime')\n",
      "Doing split for 1 lime, cut into wedges\n"
     ]
    }
   ],
   "source": [
    "parsed_ingredients = []\n",
    "for ingredient in ingredients:\n",
    "    print(parse_ingredient(ingredient))\n",
    "    parsed_ingredients.append(parse_ingredient(ingredient))"
   ]
  },
  {
   "cell_type": "code",
   "execution_count": 132,
   "metadata": {},
   "outputs": [],
   "source": [
    "steps = soup.find_all(\"div\", class_=\"section-body elementFont__body--paragraphWithin elementFont__body--linkWithin\")\n",
    "steps = [x.text[:-2] for x in steps]"
   ]
  },
  {
   "cell_type": "code",
   "execution_count": 133,
   "metadata": {},
   "outputs": [
    {
     "data": {
      "text/plain": [
       "'Per Serving:  363 calories; protein 16.9g; carbohydrates 32.2g; fat 22.1g; cholesterol 93mg; sodium 1022.9mg.'"
      ]
     },
     "execution_count": 133,
     "metadata": {},
     "output_type": "execute_result"
    }
   ],
   "source": [
    "nutrition = soup.find(\"div\", class_=\"recipeNutritionSectionBlock\")\n",
    "nutrition = nutrition.text[1:-17]\n",
    "\n",
    "nutrition"
   ]
  },
  {
   "cell_type": "markdown",
   "metadata": {},
   "source": [
    "Methods"
   ]
  },
  {
   "cell_type": "code",
   "execution_count": 134,
   "metadata": {},
   "outputs": [
    {
     "name": "stdout",
     "output_type": "stream",
     "text": [
      "['Place shirataki noodles in a bowl of hot water; set aside.', 'Heat oil in a skillet over medium heat; cook and stir tofu until lightly browned and cooked through, 5 to 10 minutes. Transfer tofu to a plate, keeping skillet over heat.', 'Whisk soy sauce lemon juice, sugar, peanut butter, and sriracha sauce together in a small microwave-safe bowl; heat in microwave until peanut sauce is melted and smooth, about 20 seconds. Stir well.', 'Cook and stir eggs in the hot skillet until cooked through and scrambled, about 5 minutes. Mix mushrooms and tofu into eggs; add 1/2 of the peanut sauce and mix well.', 'Drain shirataki noodles and add to egg mixture; pour in the remaining peanut sauce. Sprinkle 1/4 cup cashews into tofu-noodle mixture and mix well. Reduce heat to medium-low and simmer until sauce thickens, 5 to 7 minutes.', 'Transfer tofu-noodle mixture to a serving bowl and top with remaining cashews, bean sprouts, and lime wedges.', 'Any type of meat alternative can be used in place of the tofu, if desired.', \"As with most recipes, this is one is super versatile. Add more veggies. Onions are typically in pad Thai, or carrots and broccoli. Use real meat or regular pasta. I'm not big on spice, so add more sriracha for a hotter dish.\"]\n"
     ]
    }
   ],
   "source": [
    "methods = soup.find_all(\"div\", class_=\"paragraph\")\n",
    "directions = [method.text.strip().encode('ascii', 'ignore').decode(\"utf-8\") for method in methods]\n",
    "print(directions)"
   ]
  },
  {
   "cell_type": "code",
   "execution_count": 136,
   "metadata": {},
   "outputs": [
    {
     "name": "stdout",
     "output_type": "stream",
     "text": [
      "Place shirataki noodles in a bowl of hot water; set aside. ['set'] ['place']\n",
      "Heat oil in a skillet over medium heat; cook and stir tofu until lightly browned and cooked through, 5 to 10 minutes. Transfer tofu to a plate, keeping skillet over heat. ['keep'] ['cook', 'stir', 'brown', 'cook']\n",
      "Whisk soy sauce lemon juice, sugar, peanut butter, and sriracha sauce together in a small microwave-safe bowl; heat in microwave until peanut sauce is melted and smooth, about 20 seconds. Stir well. ['stir'] ['sauce', 'melt']\n",
      "Cook and stir eggs in the hot skillet until cooked through and scrambled, about 5 minutes. Mix mushrooms and tofu into eggs; add 1/2 of the peanut sauce and mix well. ['mix'] ['cook', 'stir', 'cook', 'mix', 'add']\n",
      "Drain shirataki noodles and add to egg mixture; pour in the remaining peanut sauce. Sprinkle 1/4 cup cashews into tofu-noodle mixture and mix well. Reduce heat to medium-low and simmer until sauce thickens, 5 to 7 minutes. ['reduce'] ['drain', 'add', 'pour', 'remain', 'sprinkle', 'mix']\n",
      "Transfer tofu-noodle mixture to a serving bowl and top with remaining cashews, bean sprouts, and lime wedges. ['remain'] ['transfer', 'serve']\n",
      "Any type of meat alternative can be used in place of the tofu, if desired. ['desire'] ['use']\n",
      "As with most recipes, this is one is super versatile. Add more veggies. Onions are typically in pad Thai, or carrots and broccoli. Use real meat or regular pasta. I'm not big on spice, so add more sriracha for a hotter dish. ['add'] ['add', 'use']\n"
     ]
    }
   ],
   "source": [
    "methods = []\n",
    "for i in range(len(directions)):\n",
    "    method = parse_method(directions[i], i)\n",
    "    methods.append(method)\n",
    "    print(method.direction, method.primary_cooking, method.secondary_cooking)"
   ]
  },
  {
   "cell_type": "code",
   "execution_count": 196,
   "metadata": {},
   "outputs": [],
   "source": [
    "import spacy\n",
    "sp = spacy.load('en_core_web_sm')\n",
    "\n",
    "toollist = [\"bowl\", \"frying pan\", \"skillet\", \"fork\", \"spoon\", \"chopsticks\",\n",
    "            \"plate\", \"microwave\", \"oven\", \"air fryer\", \"saucepan\", \"pot\", \"sheet pan\",\n",
    "            \"baking pan\", \"pan\", \"baking dish\", \"knife\", \"knives\", \"measuring spoon\",\n",
    "            \"measuring cup\", \"peeler\", \"whisk\", \"tongs\", \"cutting board\", \"colander\",\n",
    "            \"can opener\", \"grater\", \"microplane\", 'blender', \"spatula\", \"slotted spoon\",\n",
    "            \"corkscrew\", \"plastic bag\", \"broiler pan\"]\n",
    "method_to_tool = {\"whisk\": \"whisk\", \"grate\": \"grater\", \"blend\":\"blender\", \"deep fry\":\"deep fryer\",\n",
    "                \"stir\":\"spoon\", \"microwave\":\"microwave\", \"drain\":\"colander\", \"bake\":\"oven\", \n",
    "                \"strain\":\"strainer\", \"saute\":\"wooden spoon\", \"chop\":\"knife\", \"mix\":\"spoon\"}\n",
    "\n",
    "\n",
    "def parse_tool(direction):\n",
    "    sentences = direction.split(\".\")\n",
    "    cleansentences = []\n",
    "    for sentence in sentences:\n",
    "        sentence = sentence.split(';')\n",
    "        # print(sentence)\n",
    "        if sentence == ['']:\n",
    "            break\n",
    "        else:\n",
    "            for s in sentence:\n",
    "                cleansentence = s.strip()\n",
    "                cleansentence = cleansentence.lower()\n",
    "                cleansentences.append(cleansentence)\n",
    "\n",
    "    # print(cleansentences)\n",
    "    tools = []\n",
    "\n",
    "    tool_pattern = re.compile('in|into|using|use|to')\n",
    "    sent_containing_tool = list(filter(tool_pattern.search, cleansentences))\n",
    "\n",
    "\n",
    "\n",
    "    for sentence in sentences:\n",
    "        if sentence in sent_containing_tool:\n",
    "            sentence = re.sub(r'[^\\w\\s]', '', sentence)\n",
    "            spltsentence = sentence.split()\n",
    "            sen = sp(sentence)\n",
    "            print(\"sentence is: \", sentence)\n",
    "            toolwords = []\n",
    "            for tool in toollist:\n",
    "                toolwords = []\n",
    "                if tool in sentence: \n",
    "                    finaltool = None\n",
    "                    # print(\"THE TOOL FOUND IS: \", tool)\n",
    "                    toolsplt = tool.split(\" \")\n",
    "                    # print(\"the first word in the split tool list is \", toolsplt[0])\n",
    "                    if toolsplt[0] in spltsentence:\n",
    "                        index = spltsentence.index(toolsplt[0])\n",
    "                    else:\n",
    "                        break\n",
    "                    # print(\"SPLIT TOOL IS \", toolsplt)\n",
    "                    if sen[index-1].pos_ == \"ADJ\":\n",
    "                        toolwords.append(str(sen[index-1]))\n",
    "                        for word in toolsplt:\n",
    "                            toolwords.append(word)\n",
    "                        # print(\"toolwords is \", toolwords, \"(WITH ADJECTIVE)\")\n",
    "                    else:\n",
    "                        for word in toolsplt:\n",
    "                            toolwords.append(word)\n",
    "                        # print(\"toolwords is \", toolwords, \"(NO ADJECTIVE)\")\n",
    "                    # print(\"the toolwords as a list is: \", toolwords)\n",
    "                    finaltool = \" \".join(toolwords)\n",
    "                    print(\"FINAL TOOL FOUND: \", finaltool)\n",
    "                    tools.append(finaltool) \n",
    "        # else:\n",
    "        #     for word in spltsentence:\n",
    "        #         for method in method_to_tool.keys():\n",
    "        #             if method == word:\n",
    "        #                 tools.append(method_to_tool.get(method))\n",
    "\n",
    "\n",
    "    # for sentence in sent_containing_tool:\n",
    "    #     sentence = re.sub(r'[^\\w\\s]', '', sentence)\n",
    "    #     spltsentence = sentence.split()\n",
    "    #     sen = sp(sentence)\n",
    "    #     print(\"sentence is: \", sentence)\n",
    "    #     toolwords = []\n",
    "    #     for tool in toollist:\n",
    "    #         toolwords = []\n",
    "    #         if tool in sentence: \n",
    "    #             finaltool = None\n",
    "    #             # print(\"THE TOOL FOUND IS: \", tool)\n",
    "    #             toolsplt = tool.split(\" \")\n",
    "    #             # print(\"the first word in the split tool list is \", toolsplt[0])\n",
    "    #             if toolsplt[0] in spltsentence:\n",
    "    #                 index = spltsentence.index(toolsplt[0])\n",
    "    #             else:\n",
    "    #                 break\n",
    "    #             # print(\"SPLIT TOOL IS \", toolsplt)\n",
    "    #             if sen[index-1].pos_ == \"ADJ\":\n",
    "    #                 toolwords.append(str(sen[index-1]))\n",
    "    #                 for word in toolsplt:\n",
    "    #                     toolwords.append(word)\n",
    "    #                 # print(\"toolwords is \", toolwords, \"(WITH ADJECTIVE)\")\n",
    "    #             else:\n",
    "    #                 for word in toolsplt:\n",
    "    #                     toolwords.append(word)\n",
    "    #                 # print(\"toolwords is \", toolwords, \"(NO ADJECTIVE)\")\n",
    "    #             # print(\"the toolwords as a list is: \", toolwords)\n",
    "    #             finaltool = \" \".join(toolwords)\n",
    "    #             print(\"FINAL TOOL FOUND: \", finaltool)\n",
    "    #             tools.append(finaltool)     \n",
    "\n",
    "    return tools"
   ]
  },
  {
   "cell_type": "code",
   "execution_count": 197,
   "metadata": {},
   "outputs": [
    {
     "name": "stdout",
     "output_type": "stream",
     "text": [
      "[]\n"
     ]
    }
   ],
   "source": [
    "tools = []\n",
    "for i in range(len(directions)):\n",
    "    currtool = parse_tool(directions[i])\n",
    "    tools.extend(currtool)\n",
    "\n",
    "cleantools = []\n",
    "while len(tools) > 0:\n",
    "    tool = tools[0]\n",
    "    in_ingredients = False\n",
    "    for ingredient in parsed_ingredients:\n",
    "        if tool in ingredient.name:\n",
    "            in_ingredients = True\n",
    "    if in_ingredients == False:\n",
    "        cleantools.append(tool)\n",
    "    tools.remove(tool)\n",
    "\n",
    "print(cleantools)"
   ]
  },
  {
   "cell_type": "code",
   "execution_count": 121,
   "metadata": {},
   "outputs": [],
   "source": [
    "sen = sp(\"into tofunoodle mixture\")"
   ]
  },
  {
   "cell_type": "code",
   "execution_count": 122,
   "metadata": {},
   "outputs": [
    {
     "data": {
      "text/plain": [
       "'NOUN'"
      ]
     },
     "execution_count": 122,
     "metadata": {},
     "output_type": "execute_result"
    }
   ],
   "source": [
    "sen[2].pos_"
   ]
  },
  {
   "cell_type": "code",
   "execution_count": 156,
   "metadata": {},
   "outputs": [
    {
     "data": {
      "text/plain": [
       "True"
      ]
     },
     "execution_count": 156,
     "metadata": {},
     "output_type": "execute_result"
    }
   ],
   "source": [
    "sentence = \"use an air fryer to cook chicken nuggets\"\n",
    "\"air fryer\" in sentence"
   ]
  },
  {
   "cell_type": "code",
   "execution_count": null,
   "metadata": {},
   "outputs": [],
   "source": []
  }
 ],
 "metadata": {
  "interpreter": {
   "hash": "aee8b7b246df8f9039afb4144a1f6fd8d2ca17a180786b69acc140d282b71a49"
  },
  "kernelspec": {
   "display_name": "Python 3.9.12 64-bit",
   "language": "python",
   "name": "python3"
  },
  "language_info": {
   "codemirror_mode": {
    "name": "ipython",
    "version": 3
   },
   "file_extension": ".py",
   "mimetype": "text/x-python",
   "name": "python",
   "nbconvert_exporter": "python",
   "pygments_lexer": "ipython3",
   "version": "3.9.12"
  },
  "orig_nbformat": 4
 },
 "nbformat": 4,
 "nbformat_minor": 2
}
