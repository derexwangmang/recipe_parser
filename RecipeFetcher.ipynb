{
 "cells": [
  {
   "cell_type": "code",
   "execution_count": 1,
   "metadata": {},
   "outputs": [],
   "source": [
    "import requests\n",
    "from bs4 import BeautifulSoup as bs\n",
    "from parse_methods import parse_method\n",
    "#from parse_ingredients import parse_ingredient"
   ]
  },
  {
   "cell_type": "markdown",
   "metadata": {},
   "source": [
    "Take in a URL"
   ]
  },
  {
   "cell_type": "code",
   "execution_count": 2,
   "metadata": {},
   "outputs": [],
   "source": [
    "url = 'https://www.allrecipes.com/recipe/24074/alysias-basic-meat-lasagna/'\n",
    "page = requests.get(url)\n",
    "soup = bs(page.content, \"html.parser\")"
   ]
  },
  {
   "cell_type": "code",
   "execution_count": 7,
   "metadata": {},
   "outputs": [],
   "source": [
    "title = soup.find(\"h1\", class_=\"headline heading-content elementFont__display\").text"
   ]
  },
  {
   "cell_type": "code",
   "execution_count": 58,
   "metadata": {},
   "outputs": [
    {
     "name": "stdout",
     "output_type": "stream",
     "text": [
      "('prep:', '50 mins')\n",
      "('cook:', '45 mins')\n",
      "('total:', '1 hr 35 mins')\n",
      "('Servings:', '10')\n",
      "('Yield:', '10 servings')\n"
     ]
    }
   ],
   "source": [
    "recipe_info = soup.find_all(\"div\", class_=\"recipe-meta-item-header elementFont__subtitle--bold elementFont__transformCapitalize\")\n",
    "recipe_info = [x.text for x in recipe_info]\n",
    "recipe_info_details = soup.find_all(\"div\", class_=\"recipe-meta-item-body elementFont__subtitle\")\n",
    "recipe_info_details = [x.text[:-1] for x in recipe_info_details]\n",
    "\n",
    "recipe_info = zip(recipe_info, recipe_info_details)\n",
    "for item in recipe_info:\n",
    "  print(item)"
   ]
  },
  {
   "cell_type": "code",
   "execution_count": 74,
   "metadata": {},
   "outputs": [],
   "source": [
    "ingredients = soup.find_all(\"span\", class_=\"ingredients-item-name elementFont__body\")\n",
    "# ingredients = [x.text for x in ingredients]\n",
    "# need to translate some encodings and special characters\n",
    "# also need to learn how to distinguish ingredients and measurements"
   ]
  },
  {
   "cell_type": "code",
   "execution_count": 49,
   "metadata": {},
   "outputs": [
    {
     "name": "stdout",
     "output_type": "stream",
     "text": [
      "{188: '.25', 189: '.5', 190: '.75', 2930: '.25', 2931: '.5', 2932: '.75', 2933: '.0625', 2934: '.125', 2935: '.1875', 3422: '.2', 3443: '.25', 3444: '.5', 3445: '.75', 3446: '.0625', 3447: '.125', 3448: '.1875', 8528: '.14285714285714285', 8529: '.1111111111111111', 8531: '.3333333333333333', 8532: '.6666666666666666', 8533: '.2', 8534: '.4', 8535: '.6', 8536: '.8', 8537: '.16666666666666666', 8538: '.8333333333333334', 8539: '.125', 8540: '.375', 8541: '.625', 8542: '.875', 8585: '.0', 11517: '.5', 43056: '.25', 43057: '.5', 43058: '.75', 43059: '.0625', 43060: '.125', 43061: '.1875', 68029: '.5', 68168: '.5', 69243: '.5', 69244: '.25', 69245: '.3333333333333333', 69246: '.6666666666666666', 69414: '.5', 73673: '.0625', 73674: '.0625', 73676: '.125', 73678: '.1875', 73679: '.2', 73680: '.25', 73681: '.5', 73682: '.5', 73683: '.75', 126125: '.25', 126126: '.5', 126127: '.75', 126268: '.5', 126269: '.16666666666666666'}\n"
     ]
    }
   ],
   "source": [
    "# Source: https://stackoverflow.com/questions/15190930/python-beautifulsoup-parsing-html-fractions\n",
    "\n",
    "import unicodedata as ud\n",
    "import re\n",
    "\n",
    "numerator = {\n",
    "    'ONE':1,\n",
    "    'TWO':2,\n",
    "    'THREE':3,\n",
    "    'FOUR':4,\n",
    "    'FIVE':5,\n",
    "    'SIX':6,\n",
    "    'SEVEN':7,\n",
    "    'EIGHT':8,\n",
    "    'NINE':9,\n",
    "    'ZERO':0,\n",
    "    }\n",
    "\n",
    "denominator = {\n",
    "    'QUARTER':4,\n",
    "    'HALF':2,\n",
    "    'SEVENTH':7,\n",
    "    'NINTH':9,\n",
    "    'THIRD':3,\n",
    "    'FIFTH':5,\n",
    "    'SIXTH':6,\n",
    "    'EIGHTH':8,\n",
    "    'SIXTEENTH':16\n",
    "    }\n",
    "\n",
    "fraction = {}\n",
    "for num in range(0x110000):\n",
    "    s = chr(num)\n",
    "    try:\n",
    "        name = ud.name(s)\n",
    "    except ValueError:\n",
    "        continue\n",
    "    match = re.search('FRACTION ({n}) ({d})'.format(\n",
    "        n = '|'.join(numerator.keys()),\n",
    "        d = '|'.join(denominator.keys()),\n",
    "        ) , name)\n",
    "    if match:\n",
    "        fraction[num] = str(\n",
    "           float(numerator[match.group(1)])/denominator[match.group(2)]).lstrip('0')\n",
    "print(fraction)"
   ]
  },
  {
   "cell_type": "code",
   "execution_count": 75,
   "metadata": {},
   "outputs": [
    {
     "name": "stdout",
     "output_type": "stream",
     "text": [
      "['1.5 pounds ground beef', '1 teaspoon garlic powder', '1 (28 ounce) jar sausage flavored spaghetti sauce', '1 (8 ounce) can tomato sauce', '1 teaspoon dried oregano', '1 tablespoon olive oil', '4 cloves garlic, minced', '1 small onion, diced', '1 (8 ounce) package mozzarella cheese, shredded', '8 ounces provolone cheese, shredded', '1 (15 ounce) container ricotta cheese', '2 eggs', '.25 cup milk', '.5 teaspoon dried oregano', '9 lasagna noodles', '.25 cup grated Parmesan cheese']\n"
     ]
    }
   ],
   "source": [
    "ingredients = [ingredient.text.strip().translate(fraction).encode('ascii', 'ignore').decode(\"utf-8\") for ingredient in ingredients]\n",
    "print(ingredients)"
   ]
  },
  {
   "cell_type": "code",
   "execution_count": 76,
   "metadata": {},
   "outputs": [
    {
     "name": "stdout",
     "output_type": "stream",
     "text": [
      "Ingredient(name='ground beef', quantity=1.5, unit='lb', comment='', original_string='1.5 pounds ground beef')\n",
      "Ingredient(name='garlic powder', quantity=1.0, unit='tsp', comment='', original_string='1 teaspoon garlic powder')\n",
      "Ingredient(name='jar sausage flavored spaghetti sauce', quantity=1.0, unit='', comment='(28 ounce)', original_string='1 (28 ounce) jar sausage flavored spaghetti sauce')\n",
      "Ingredient(name='can tomato sauce', quantity=1.0, unit='', comment='(8 ounce)', original_string='1 (8 ounce) can tomato sauce')\n",
      "Ingredient(name='dried oregano', quantity=1.0, unit='tsp', comment='', original_string='1 teaspoon dried oregano')\n",
      "Ingredient(name='olive oil', quantity=1.0, unit='tbsp', comment='', original_string='1 tablespoon olive oil')\n",
      "Doing split for 4 cloves garlic, minced\n",
      "Ingredient(name='garlic', quantity=4.0, unit='clove', comment='minced', original_string='4 cloves garlic, minced')\n",
      "Doing split for 4 cloves garlic, minced\n",
      "Doing split for 1 small onion, diced\n",
      "Ingredient(name='small onion', quantity=1.0, unit='', comment='diced', original_string='1 small onion, diced')\n",
      "Doing split for 1 small onion, diced\n",
      "Doing split for 1  package mozzarella cheese, shredded\n",
      "Ingredient(name='package mozzarella cheese', quantity=1.0, unit='', comment='(8 ounce)  shredded', original_string='1 (8 ounce) package mozzarella cheese, shredded')\n",
      "Doing split for 1  package mozzarella cheese, shredded\n",
      "Doing split for 8 ounces provolone cheese, shredded\n",
      "Ingredient(name='provolone cheese', quantity=8.0, unit='oz', comment='shredded', original_string='8 ounces provolone cheese, shredded')\n",
      "Doing split for 8 ounces provolone cheese, shredded\n",
      "Ingredient(name='container ricotta cheese', quantity=1.0, unit='', comment='(15 ounce)', original_string='1 (15 ounce) container ricotta cheese')\n",
      "Ingredient(name='eggs', quantity=2.0, unit='', comment='', original_string='2 eggs')\n",
      "Ingredient(name='milk', quantity=0.25, unit='cup', comment='', original_string='.25 cup milk')\n",
      "Ingredient(name='dried oregano', quantity=0.5, unit='tsp', comment='', original_string='.5 teaspoon dried oregano')\n",
      "Ingredient(name='lasagna noodles', quantity=9.0, unit='', comment='', original_string='9 lasagna noodles')\n",
      "Ingredient(name='grated Parmesan cheese', quantity=0.25, unit='cup', comment='', original_string='.25 cup grated Parmesan cheese')\n"
     ]
    }
   ],
   "source": [
    "parsed_ingredients = []\n",
    "for ingredient in ingredients:\n",
    "    print(parse_ingredient(ingredient))\n",
    "    parsed_ingredients.append(parse_ingredient(ingredient))"
   ]
  },
  {
   "cell_type": "code",
   "execution_count": 3,
   "metadata": {},
   "outputs": [],
   "source": [
    "steps = soup.find_all(\"div\", class_=\"section-body elementFont__body--paragraphWithin elementFont__body--linkWithin\")\n",
    "steps = [x.text[:-2] for x in steps]"
   ]
  },
  {
   "cell_type": "code",
   "execution_count": 11,
   "metadata": {},
   "outputs": [
    {
     "data": {
      "text/plain": [
       "'Per Serving:  567 calories; protein 36g; carbohydrates 35.6g; fat 31.4g; cholesterol 129.9mg; sodium 943.1mg.'"
      ]
     },
     "execution_count": 11,
     "metadata": {},
     "output_type": "execute_result"
    }
   ],
   "source": [
    "nutrition = soup.find(\"div\", class_=\"recipeNutritionSectionBlock\")\n",
    "nutrition = nutrition.text[1:-17]\n",
    "\n",
    "nutrition"
   ]
  },
  {
   "cell_type": "markdown",
   "metadata": {},
   "source": [
    "Methods"
   ]
  },
  {
   "cell_type": "code",
   "execution_count": 4,
   "metadata": {},
   "outputs": [
    {
     "name": "stdout",
     "output_type": "stream",
     "text": [
      "['Preheat oven to 375 degrees F (190 degrees C).', 'Season ground beef with garlic powder. Heat a large skillet over medium-high heat. Cook and stir ground beef in the hot skillet until browned and crumbly, 5 to 7 minutes. Drain and discard grease.', 'Pour spaghetti sauce, tomato sauce, and oregano into a large saucepan. Set aside.', 'Heat olive oil in a large skillet over medium-high heat. Saute garlic and onions until softened and translucent, about 5 minutes. Place cooked onion-garlic mixture and cooked ground beef into the sauce mixture. Cover and let simmer for 15 to 20 minutes.', 'Combine mozzarella and provolone cheeses in a medium bowl. Mix ricotta cheese, eggs, milk, and 1/2 teaspoon oregano together in a separate bowl.', 'Layer a 9x13-inch baking pan with just enough sauce to cover the bottom of the pan. Lay three lasagna noodles in the pan over the sauce. Cover with more sauce, then with ricotta mixture then sprinkle with mozzarella/provolone mixture; repeat layering. Finish with a layer of noodles and remaining sauce. Sprinkle top with Parmesan cheese.', 'Bake, covered, in the preheated oven for 30 minutes. Uncover and continue to bake until cheese is melted and top is golden, about 15 minutes more.']\n"
     ]
    }
   ],
   "source": [
    "methods = soup.find_all(\"div\", class_=\"paragraph\")\n",
    "directions = [method.text.strip().encode('ascii', 'ignore').decode(\"utf-8\") for method in methods]\n",
    "print(directions)"
   ]
  },
  {
   "cell_type": "code",
   "execution_count": 6,
   "metadata": {},
   "outputs": [
    {
     "name": "stdout",
     "output_type": "stream",
     "text": [
      "Preheat oven to 375 degrees F (190 degrees C). ['preheat'] []\n",
      "Season ground beef with garlic powder. Heat a large skillet over medium-high heat. Cook and stir ground beef in the hot skillet until browned and crumbly, 5 to 7 minutes. Drain and discard grease. ['brown'] ['heat', 'cook', 'stir']\n",
      "Pour spaghetti sauce, tomato sauce, and oregano into a large saucepan. Set aside. ['set'] []\n",
      "Heat olive oil in a large skillet over medium-high heat. Saute garlic and onions until softened and translucent, about 5 minutes. Place cooked onion-garlic mixture and cooked ground beef into the sauce mixture. Cover and let simmer for 15 to 20 minutes. ['saute'] ['soften', 'cook', 'cook', 'cover', 'let']\n",
      "Combine mozzarella and provolone cheeses in a medium bowl. Mix ricotta cheese, eggs, milk, and 1/2 teaspoon oregano together in a separate bowl. ['mix'] ['combine', 'cheese']\n",
      "Layer a 9x13-inch baking pan with just enough sauce to cover the bottom of the pan. Lay three lasagna noodles in the pan over the sauce. Cover with more sauce, then with ricotta mixture then sprinkle with mozzarella/provolone mixture; repeat layering. Finish with a layer of noodles and remaining sauce. Sprinkle top with Parmesan cheese. ['sprinkle'] ['layer', 'bake', 'cover', 'lie', 'cover', 'sprinkle', 'finish', 'remain']\n",
      "Bake, covered, in the preheated oven for 30 minutes. Uncover and continue to bake until cheese is melted and top is golden, about 15 minutes more. ['bake'] ['cover', 'uncover', 'continue', 'melt']\n"
     ]
    }
   ],
   "source": [
    "methods = []\n",
    "for i in range(len(directions)):\n",
    "    method = parse_method(directions[i], i)\n",
    "    methods.append(method)\n",
    "    print(method.direction, method.primary_cooking, method.secondary_cooking)"
   ]
  }
 ],
 "metadata": {
  "interpreter": {
   "hash": "eb1ea44037e5235d61b86dbe9de6d0c44288f57747242197dc31ad28d48545e4"
  },
  "kernelspec": {
   "display_name": "Python 3.7.0 ('venv': venv)",
   "language": "python",
   "name": "python3"
  },
  "language_info": {
   "codemirror_mode": {
    "name": "ipython",
    "version": 3
   },
   "file_extension": ".py",
   "mimetype": "text/x-python",
   "name": "python",
   "nbconvert_exporter": "python",
   "pygments_lexer": "ipython3",
   "version": "3.10.4"
  },
  "orig_nbformat": 4
 },
 "nbformat": 4,
 "nbformat_minor": 2
}
