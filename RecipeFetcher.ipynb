{
 "cells": [
  {
   "cell_type": "code",
   "execution_count": 4,
   "metadata": {},
   "outputs": [],
   "source": [
    "import requests\n",
    "from bs4 import BeautifulSoup as bs"
   ]
  },
  {
   "cell_type": "markdown",
   "metadata": {},
   "source": [
    "Take in a URL"
   ]
  },
  {
   "cell_type": "code",
   "execution_count": 6,
   "metadata": {},
   "outputs": [],
   "source": [
    "url = 'https://www.allrecipes.com/recipe/24074/alysias-basic-meat-lasagna/'\n",
    "page = requests.get(url)\n",
    "soup = bs(page.content, \"html.parser\")"
   ]
  },
  {
   "cell_type": "code",
   "execution_count": 20,
   "metadata": {},
   "outputs": [],
   "source": [
    "title = soup.find(\"h1\", class_=\"headline heading-content elementFont__display\").text"
   ]
  },
  {
   "cell_type": "code",
   "execution_count": 49,
   "metadata": {},
   "outputs": [
    {
     "name": "stdout",
     "output_type": "stream",
     "text": [
      "('prep:', '50 mins')\n",
      "('cook:', '45 mins')\n",
      "('total:', '1 hr 35 mins')\n",
      "('Servings:', '10')\n",
      "('Yield:', '10 servings')\n"
     ]
    }
   ],
   "source": [
    "recipe_info = soup.find_all(\"div\", class_=\"recipe-meta-item-header elementFont__subtitle--bold elementFont__transformCapitalize\")\n",
    "recipe_info = [x.text for x in recipe_info]\n",
    "recipe_info_details = soup.find_all(\"div\", class_=\"recipe-meta-item-body elementFont__subtitle\")\n",
    "recipe_info_details = [x.text[:-1] for x in recipe_info_details]\n",
    "\n",
    "recipe_info = zip(recipe_info, recipe_info_details)\n",
    "for item in recipe_info:\n",
    "  print(item)"
   ]
  },
  {
   "cell_type": "code",
   "execution_count": 36,
   "metadata": {},
   "outputs": [],
   "source": [
    "ingredients = soup.find_all(\"span\", class_=\"ingredients-item-name elementFont__body\")\n",
    "ingredients = [x.text for x in ingredients]\n",
    "# need to translate some encodings and special characters\n",
    "# also need to learn how to distinguish ingredients and measurements"
   ]
  },
  {
   "cell_type": "code",
   "execution_count": 40,
   "metadata": {},
   "outputs": [],
   "source": [
    "steps = soup.find_all(\"div\", class_=\"section-body elementFont__body--paragraphWithin elementFont__body--linkWithin\")\n",
    "steps = [x.text[:-2] for x in steps]"
   ]
  },
  {
   "cell_type": "code",
   "execution_count": 47,
   "metadata": {},
   "outputs": [
    {
     "data": {
      "text/plain": [
       "'Per Serving:  567 calories; protein 36g; carbohydrates 35.6g; fat 31.4g; cholesterol 129.9mg; sodium 943.1mg.'"
      ]
     },
     "execution_count": 47,
     "metadata": {},
     "output_type": "execute_result"
    }
   ],
   "source": [
    "nutrition = soup.find(\"div\", class_=\"recipeNutritionSectionBlock\")\n",
    "nutrition = nutrition.text[1:-17]\n",
    "\n",
    "nutrition"
   ]
  }
 ],
 "metadata": {
  "interpreter": {
   "hash": "9be412cf55a70c20ec5f3ee53ebd2714bb27c14b34ef72d463a877a8a8ae6bd4"
  },
  "kernelspec": {
   "display_name": "Python 3.8.3 64-bit ('base': conda)",
   "name": "python3"
  },
  "language_info": {
   "codemirror_mode": {
    "name": "ipython",
    "version": 3
   },
   "file_extension": ".py",
   "mimetype": "text/x-python",
   "name": "python",
   "nbconvert_exporter": "python",
   "pygments_lexer": "ipython3",
   "version": "3.8.3"
  },
  "orig_nbformat": 4
 },
 "nbformat": 4,
 "nbformat_minor": 2
}
