{
 "cells": [
  {
   "cell_type": "code",
<<<<<<< HEAD
   "execution_count": 1,
=======
   "execution_count": 5,
>>>>>>> 70e3b3afc6af6a788345bc50b421ebd5c2bb851e
   "metadata": {},
   "outputs": [],
   "source": [
    "import requests\n",
    "from bs4 import BeautifulSoup as bs\n",
    "from ParseMethods import parse_method\n",
<<<<<<< HEAD
    "from parse_ingredients import parse_ingredient\n",
    "import spacy"
=======
    "from parse_ingredients import parse_ingredient"
>>>>>>> 70e3b3afc6af6a788345bc50b421ebd5c2bb851e
   ]
  },
  {
   "cell_type": "markdown",
   "metadata": {},
   "source": [
    "Take in a URL"
   ]
  },
  {
   "cell_type": "code",
<<<<<<< HEAD
   "execution_count": 2,
   "metadata": {},
   "outputs": [],
   "source": [
    "url = 'https://www.allrecipes.com/recipe/16167/beef-bourguignon-i/'\n",
=======
   "execution_count": 6,
   "metadata": {},
   "outputs": [],
   "source": [
    "url = 'https://www.allrecipes.com/recipe/24074/alysias-basic-meat-lasagna/'\n",
>>>>>>> 70e3b3afc6af6a788345bc50b421ebd5c2bb851e
    "page = requests.get(url)\n",
    "soup = bs(page.content, \"html.parser\")"
   ]
  },
  {
   "cell_type": "code",
<<<<<<< HEAD
   "execution_count": 3,
=======
   "execution_count": 7,
>>>>>>> 70e3b3afc6af6a788345bc50b421ebd5c2bb851e
   "metadata": {},
   "outputs": [],
   "source": [
    "title = soup.find(\"h1\", class_=\"headline heading-content elementFont__display\").text"
   ]
  },
  {
   "cell_type": "code",
<<<<<<< HEAD
   "execution_count": 4,
=======
   "execution_count": 58,
>>>>>>> 70e3b3afc6af6a788345bc50b421ebd5c2bb851e
   "metadata": {},
   "outputs": [
    {
     "name": "stdout",
     "output_type": "stream",
     "text": [
<<<<<<< HEAD
      "('prep:', '30 mins')\n",
      "('cook:', '3 hrs')\n",
      "('additional:', '2 days')\n",
      "('total:', '2 days 3 hrs 30 mins')\n",
      "('Servings:', '8')\n",
      "('Yield:', '8 servings')\n"
=======
      "('prep:', '50 mins')\n",
      "('cook:', '45 mins')\n",
      "('total:', '1 hr 35 mins')\n",
      "('Servings:', '10')\n",
      "('Yield:', '10 servings')\n"
>>>>>>> 70e3b3afc6af6a788345bc50b421ebd5c2bb851e
     ]
    }
   ],
   "source": [
    "recipe_info = soup.find_all(\"div\", class_=\"recipe-meta-item-header elementFont__subtitle--bold elementFont__transformCapitalize\")\n",
    "recipe_info = [x.text for x in recipe_info]\n",
    "recipe_info_details = soup.find_all(\"div\", class_=\"recipe-meta-item-body elementFont__subtitle\")\n",
    "recipe_info_details = [x.text[:-1] for x in recipe_info_details]\n",
    "\n",
    "recipe_info = zip(recipe_info, recipe_info_details)\n",
    "for item in recipe_info:\n",
    "  print(item)"
   ]
  },
  {
   "cell_type": "code",
<<<<<<< HEAD
   "execution_count": 5,
=======
   "execution_count": 74,
>>>>>>> 70e3b3afc6af6a788345bc50b421ebd5c2bb851e
   "metadata": {},
   "outputs": [],
   "source": [
    "ingredients = soup.find_all(\"span\", class_=\"ingredients-item-name elementFont__body\")\n",
    "# ingredients = [x.text for x in ingredients]\n",
    "# need to translate some encodings and special characters\n",
    "# also need to learn how to distinguish ingredients and measurements"
   ]
  },
  {
   "cell_type": "code",
<<<<<<< HEAD
   "execution_count": 6,
=======
   "execution_count": 49,
>>>>>>> 70e3b3afc6af6a788345bc50b421ebd5c2bb851e
   "metadata": {},
   "outputs": [
    {
     "name": "stdout",
     "output_type": "stream",
     "text": [
      "{188: '.25', 189: '.5', 190: '.75', 2930: '.25', 2931: '.5', 2932: '.75', 2933: '.0625', 2934: '.125', 2935: '.1875', 3422: '.2', 3443: '.25', 3444: '.5', 3445: '.75', 3446: '.0625', 3447: '.125', 3448: '.1875', 8528: '.14285714285714285', 8529: '.1111111111111111', 8531: '.3333333333333333', 8532: '.6666666666666666', 8533: '.2', 8534: '.4', 8535: '.6', 8536: '.8', 8537: '.16666666666666666', 8538: '.8333333333333334', 8539: '.125', 8540: '.375', 8541: '.625', 8542: '.875', 8585: '.0', 11517: '.5', 43056: '.25', 43057: '.5', 43058: '.75', 43059: '.0625', 43060: '.125', 43061: '.1875', 68029: '.5', 68168: '.5', 69243: '.5', 69244: '.25', 69245: '.3333333333333333', 69246: '.6666666666666666', 69414: '.5', 73673: '.0625', 73674: '.0625', 73676: '.125', 73678: '.1875', 73679: '.2', 73680: '.25', 73681: '.5', 73682: '.5', 73683: '.75', 126125: '.25', 126126: '.5', 126127: '.75', 126268: '.5', 126269: '.16666666666666666'}\n"
     ]
    }
   ],
   "source": [
    "# Source: https://stackoverflow.com/questions/15190930/python-beautifulsoup-parsing-html-fractions\n",
    "\n",
    "import unicodedata as ud\n",
    "import re\n",
    "\n",
    "numerator = {\n",
    "    'ONE':1,\n",
    "    'TWO':2,\n",
    "    'THREE':3,\n",
    "    'FOUR':4,\n",
    "    'FIVE':5,\n",
    "    'SIX':6,\n",
    "    'SEVEN':7,\n",
    "    'EIGHT':8,\n",
    "    'NINE':9,\n",
    "    'ZERO':0,\n",
    "    }\n",
    "\n",
    "denominator = {\n",
    "    'QUARTER':4,\n",
    "    'HALF':2,\n",
    "    'SEVENTH':7,\n",
    "    'NINTH':9,\n",
    "    'THIRD':3,\n",
    "    'FIFTH':5,\n",
    "    'SIXTH':6,\n",
    "    'EIGHTH':8,\n",
    "    'SIXTEENTH':16\n",
    "    }\n",
    "\n",
    "fraction = {}\n",
    "for num in range(0x110000):\n",
    "    s = chr(num)\n",
    "    try:\n",
    "        name = ud.name(s)\n",
    "    except ValueError:\n",
    "        continue\n",
    "    match = re.search('FRACTION ({n}) ({d})'.format(\n",
    "        n = '|'.join(numerator.keys()),\n",
    "        d = '|'.join(denominator.keys()),\n",
    "        ) , name)\n",
    "    if match:\n",
    "        fraction[num] = str(\n",
    "           float(numerator[match.group(1)])/denominator[match.group(2)]).lstrip('0')\n",
    "print(fraction)"
   ]
  },
  {
   "cell_type": "code",
<<<<<<< HEAD
   "execution_count": null,
   "metadata": {},
   "outputs": [],
   "source": []
  },
  {
   "cell_type": "code",
   "execution_count": 7,
=======
   "execution_count": 75,
>>>>>>> 70e3b3afc6af6a788345bc50b421ebd5c2bb851e
   "metadata": {},
   "outputs": [
    {
     "name": "stdout",
     "output_type": "stream",
     "text": [
<<<<<<< HEAD
      "['3 cups Burgundy wine', '2 tablespoons brandy', '2 onions, thinly sliced', '2 carrots, chopped', '1 sprig fresh parsley', '1 bay leaf', '1 clove garlic, crushed', '10 whole black peppercorns', '1 teaspoon salt', '2 pounds cubed beef chuck roast', '4 tablespoons olive oil, divided', '.25 pound bacon, cubed', '2 onions, chopped', '3 tablespoons all-purpose flour', '1 tablespoon tomato paste', '2 cloves garlic, crushed', '1 (10.5 ounce) can beef broth', 'salt and pepper to taste', '4 tablespoons butter', '1 pound fresh mushrooms, sliced']\n"
=======
      "['1.5 pounds ground beef', '1 teaspoon garlic powder', '1 (28 ounce) jar sausage flavored spaghetti sauce', '1 (8 ounce) can tomato sauce', '1 teaspoon dried oregano', '1 tablespoon olive oil', '4 cloves garlic, minced', '1 small onion, diced', '1 (8 ounce) package mozzarella cheese, shredded', '8 ounces provolone cheese, shredded', '1 (15 ounce) container ricotta cheese', '2 eggs', '.25 cup milk', '.5 teaspoon dried oregano', '9 lasagna noodles', '.25 cup grated Parmesan cheese']\n"
>>>>>>> 70e3b3afc6af6a788345bc50b421ebd5c2bb851e
     ]
    }
   ],
   "source": [
    "ingredients = [ingredient.text.strip().translate(fraction).encode('ascii', 'ignore').decode(\"utf-8\") for ingredient in ingredients]\n",
    "print(ingredients)"
   ]
  },
  {
   "cell_type": "code",
<<<<<<< HEAD
   "execution_count": 8,
=======
   "execution_count": 76,
>>>>>>> 70e3b3afc6af6a788345bc50b421ebd5c2bb851e
   "metadata": {},
   "outputs": [
    {
     "name": "stdout",
     "output_type": "stream",
     "text": [
<<<<<<< HEAD
      "Ingredient(name='Burgundy wine', quantity=3.0, unit='cup', comment='', original_string='3 cups Burgundy wine')\n",
      "Ingredient(name='brandy', quantity=2.0, unit='tbsp', comment='', original_string='2 tablespoons brandy')\n",
      "Doing split for 2 onions, thinly sliced\n",
      "Ingredient(name='onions', quantity=2.0, unit='', comment='thinly sliced', original_string='2 onions')\n",
      "Doing split for 2 onions, thinly sliced\n",
      "Doing split for 2 carrots, chopped\n",
      "Ingredient(name='carrots', quantity=2.0, unit='', comment='chopped', original_string='2 carrots')\n",
      "Doing split for 2 carrots, chopped\n",
      "Ingredient(name='sprig fresh parsley', quantity=1.0, unit='', comment='', original_string='1 sprig fresh parsley')\n",
      "Ingredient(name='bay leaf', quantity=1.0, unit='', comment='', original_string='1 bay leaf')\n",
      "Doing split for 1 clove garlic, crushed\n",
      "Ingredient(name='garlic', quantity=1.0, unit='clove', comment='crushed', original_string='1 clove garlic, crushed')\n",
      "Doing split for 1 clove garlic, crushed\n",
      "Ingredient(name='black peppercorns', quantity=10.0, unit='whole', comment='', original_string='10 whole black peppercorns')\n",
      "Ingredient(name='salt', quantity=1.0, unit='tsp', comment='', original_string='1 teaspoon salt')\n",
      "Ingredient(name='cubed beef chuck roast', quantity=2.0, unit='lb', comment='', original_string='2 pounds cubed beef chuck roast')\n",
      "Doing split for 4 tablespoons olive oil, divided\n",
      "Ingredient(name='olive oil', quantity=4.0, unit='tbsp', comment='divided', original_string='4 tablespoons olive oil, divided')\n",
      "Doing split for 4 tablespoons olive oil, divided\n",
      "Doing split for .25 pound bacon, cubed\n",
      "Ingredient(name='bacon', quantity=0.25, unit='lb', comment='cubed', original_string='.25 pound bacon, cubed')\n",
      "Doing split for .25 pound bacon, cubed\n",
      "Doing split for 2 onions, chopped\n",
      "Ingredient(name='onions', quantity=2.0, unit='', comment='chopped', original_string='2 onions')\n",
      "Doing split for 2 onions, chopped\n",
      "Ingredient(name='all-purpose flour', quantity=3.0, unit='tbsp', comment='', original_string='3 tablespoons all-purpose flour')\n",
      "Ingredient(name='tomato paste', quantity=1.0, unit='tbsp', comment='', original_string='1 tablespoon tomato paste')\n",
      "Doing split for 2 cloves garlic, crushed\n",
      "Ingredient(name='garlic', quantity=2.0, unit='clove', comment='crushed', original_string='2 cloves garlic, crushed')\n",
      "Doing split for 2 cloves garlic, crushed\n",
      "Ingredient(name='can beef broth', quantity=1.0, unit='', comment='(10.5 ounce)', original_string='1 (10.5 ounce) can beef broth')\n"
     ]
    },
    {
     "ename": "IndexError",
     "evalue": "list index out of range",
     "output_type": "error",
     "traceback": [
      "\u001b[0;31m---------------------------------------------------------------------------\u001b[0m",
      "\u001b[0;31mIndexError\u001b[0m                                Traceback (most recent call last)",
      "\u001b[0;32m/var/folders/r2/zpk7_6mj6995g1gtd80hvc0w0000gn/T/ipykernel_9936/483929101.py\u001b[0m in \u001b[0;36m<cell line: 2>\u001b[0;34m()\u001b[0m\n\u001b[1;32m      1\u001b[0m \u001b[0mparsed_ingredients\u001b[0m \u001b[0;34m=\u001b[0m \u001b[0;34m[\u001b[0m\u001b[0;34m]\u001b[0m\u001b[0;34m\u001b[0m\u001b[0;34m\u001b[0m\u001b[0m\n\u001b[1;32m      2\u001b[0m \u001b[0;32mfor\u001b[0m \u001b[0mingredient\u001b[0m \u001b[0;32min\u001b[0m \u001b[0mingredients\u001b[0m\u001b[0;34m:\u001b[0m\u001b[0;34m\u001b[0m\u001b[0;34m\u001b[0m\u001b[0m\n\u001b[0;32m----> 3\u001b[0;31m     \u001b[0mprint\u001b[0m\u001b[0;34m(\u001b[0m\u001b[0mparse_ingredient\u001b[0m\u001b[0;34m(\u001b[0m\u001b[0mingredient\u001b[0m\u001b[0;34m)\u001b[0m\u001b[0;34m)\u001b[0m\u001b[0;34m\u001b[0m\u001b[0;34m\u001b[0m\u001b[0m\n\u001b[0m\u001b[1;32m      4\u001b[0m     \u001b[0mparsed_ingredients\u001b[0m\u001b[0;34m.\u001b[0m\u001b[0mappend\u001b[0m\u001b[0;34m(\u001b[0m\u001b[0mparse_ingredient\u001b[0m\u001b[0;34m(\u001b[0m\u001b[0mingredient\u001b[0m\u001b[0;34m)\u001b[0m\u001b[0;34m)\u001b[0m\u001b[0;34m\u001b[0m\u001b[0;34m\u001b[0m\u001b[0m\n",
      "\u001b[0;32m/Library/Frameworks/Python.framework/Versions/3.9/lib/python3.9/site-packages/parse_ingredients/__init__.py\u001b[0m in \u001b[0;36mparse_ingredient\u001b[0;34m(raw_ingredient)\u001b[0m\n\u001b[1;32m    176\u001b[0m         \u001b[0mq_n\u001b[0m \u001b[0;34m=\u001b[0m \u001b[0mlen\u001b[0m\u001b[0;34m(\u001b[0m\u001b[0mquantity_groups\u001b[0m\u001b[0;34m)\u001b[0m\u001b[0;34m\u001b[0m\u001b[0;34m\u001b[0m\u001b[0m\n\u001b[1;32m    177\u001b[0m         \u001b[0;31m# Find the last character index that matched a quantity\u001b[0m\u001b[0;34m\u001b[0m\u001b[0;34m\u001b[0m\u001b[0m\n\u001b[0;32m--> 178\u001b[0;31m         \u001b[0mlast_quantity_character\u001b[0m \u001b[0;34m=\u001b[0m \u001b[0mingredient\u001b[0m\u001b[0;34m.\u001b[0m\u001b[0mrfind\u001b[0m\u001b[0;34m(\u001b[0m\u001b[0mquantity_groups\u001b[0m\u001b[0;34m[\u001b[0m\u001b[0mq_n\u001b[0m\u001b[0;34m-\u001b[0m\u001b[0;36m1\u001b[0m\u001b[0;34m]\u001b[0m\u001b[0;34m)\u001b[0m \u001b[0;34m+\u001b[0m \u001b[0mlen\u001b[0m\u001b[0;34m(\u001b[0m\u001b[0mquantity_groups\u001b[0m\u001b[0;34m[\u001b[0m\u001b[0mq_n\u001b[0m\u001b[0;34m-\u001b[0m\u001b[0;36m1\u001b[0m\u001b[0;34m]\u001b[0m\u001b[0;34m)\u001b[0m\u001b[0;34m\u001b[0m\u001b[0;34m\u001b[0m\u001b[0m\n\u001b[0m\u001b[1;32m    179\u001b[0m \u001b[0;34m\u001b[0m\u001b[0m\n\u001b[1;32m    180\u001b[0m         \u001b[0;31m# If the last character happens to be in the end of the string...\u001b[0m\u001b[0;34m\u001b[0m\u001b[0;34m\u001b[0m\u001b[0m\n",
      "\u001b[0;31mIndexError\u001b[0m: list index out of range"
=======
      "Ingredient(name='ground beef', quantity=1.5, unit='lb', comment='', original_string='1.5 pounds ground beef')\n",
      "Ingredient(name='garlic powder', quantity=1.0, unit='tsp', comment='', original_string='1 teaspoon garlic powder')\n",
      "Ingredient(name='jar sausage flavored spaghetti sauce', quantity=1.0, unit='', comment='(28 ounce)', original_string='1 (28 ounce) jar sausage flavored spaghetti sauce')\n",
      "Ingredient(name='can tomato sauce', quantity=1.0, unit='', comment='(8 ounce)', original_string='1 (8 ounce) can tomato sauce')\n",
      "Ingredient(name='dried oregano', quantity=1.0, unit='tsp', comment='', original_string='1 teaspoon dried oregano')\n",
      "Ingredient(name='olive oil', quantity=1.0, unit='tbsp', comment='', original_string='1 tablespoon olive oil')\n",
      "Doing split for 4 cloves garlic, minced\n",
      "Ingredient(name='garlic', quantity=4.0, unit='clove', comment='minced', original_string='4 cloves garlic, minced')\n",
      "Doing split for 4 cloves garlic, minced\n",
      "Doing split for 1 small onion, diced\n",
      "Ingredient(name='small onion', quantity=1.0, unit='', comment='diced', original_string='1 small onion, diced')\n",
      "Doing split for 1 small onion, diced\n",
      "Doing split for 1  package mozzarella cheese, shredded\n",
      "Ingredient(name='package mozzarella cheese', quantity=1.0, unit='', comment='(8 ounce)  shredded', original_string='1 (8 ounce) package mozzarella cheese, shredded')\n",
      "Doing split for 1  package mozzarella cheese, shredded\n",
      "Doing split for 8 ounces provolone cheese, shredded\n",
      "Ingredient(name='provolone cheese', quantity=8.0, unit='oz', comment='shredded', original_string='8 ounces provolone cheese, shredded')\n",
      "Doing split for 8 ounces provolone cheese, shredded\n",
      "Ingredient(name='container ricotta cheese', quantity=1.0, unit='', comment='(15 ounce)', original_string='1 (15 ounce) container ricotta cheese')\n",
      "Ingredient(name='eggs', quantity=2.0, unit='', comment='', original_string='2 eggs')\n",
      "Ingredient(name='milk', quantity=0.25, unit='cup', comment='', original_string='.25 cup milk')\n",
      "Ingredient(name='dried oregano', quantity=0.5, unit='tsp', comment='', original_string='.5 teaspoon dried oregano')\n",
      "Ingredient(name='lasagna noodles', quantity=9.0, unit='', comment='', original_string='9 lasagna noodles')\n",
      "Ingredient(name='grated Parmesan cheese', quantity=0.25, unit='cup', comment='', original_string='.25 cup grated Parmesan cheese')\n"
>>>>>>> 70e3b3afc6af6a788345bc50b421ebd5c2bb851e
     ]
    }
   ],
   "source": [
    "parsed_ingredients = []\n",
    "for ingredient in ingredients:\n",
    "    print(parse_ingredient(ingredient))\n",
    "    parsed_ingredients.append(parse_ingredient(ingredient))"
   ]
  },
  {
   "cell_type": "code",
<<<<<<< HEAD
   "execution_count": 9,
=======
   "execution_count": 8,
>>>>>>> 70e3b3afc6af6a788345bc50b421ebd5c2bb851e
   "metadata": {},
   "outputs": [
    {
     "name": "stdout",
     "output_type": "stream",
     "text": [
      "['Preheat oven to 375 degrees F (190 degrees C).', 'Season ground beef with garlic powder. Heat a large skillet over medium-high heat. Cook and stir ground beef in the hot skillet until browned and crumbly, 5 to 7 minutes. Drain and discard grease.', 'Pour spaghetti sauce, tomato sauce, and oregano into a large saucepan. Set aside.', 'Heat olive oil in a large skillet over medium-high heat. Saute garlic and onions until softened and translucent, about 5 minutes. Place cooked onion-garlic mixture and cooked ground beef into the sauce mixture. Cover and let simmer for 15 to 20 minutes.', 'Combine mozzarella and provolone cheeses in a medium bowl. Mix ricotta cheese, eggs, milk, and 1/2 teaspoon oregano together in a separate bowl.', 'Layer a 9x13-inch baking pan with just enough sauce to cover the bottom of the pan. Lay three lasagna noodles in the pan over the sauce. Cover with more sauce, then with ricotta mixture then sprinkle with mozzarella/provolone mixture; repeat layering. Finish with a layer of noodles and remaining sauce. Sprinkle top with Parmesan cheese.', 'Bake, covered, in the preheated oven for 30 minutes. Uncover and continue to bake until cheese is melted and top is golden, about 15 minutes more.']\n"
     ]
    }
   ],
   "source": [
    "steps = soup.find_all(\"div\", class_=\"section-body elementFont__body--paragraphWithin elementFont__body--linkWithin\")\n",
    "steps = [x.text[:-2] for x in steps]\n",
    "print(steps)"
   ]
  },
  {
   "cell_type": "code",
<<<<<<< HEAD
   "execution_count": 10,
=======
   "execution_count": 11,
>>>>>>> 70e3b3afc6af6a788345bc50b421ebd5c2bb851e
   "metadata": {},
   "outputs": [
    {
     "data": {
      "text/plain": [
<<<<<<< HEAD
       "'Per Serving:  458 calories; protein 19.9g; carbohydrates 14.1g; fat 28.9g; cholesterol 72mg; sodium 638mg.'"
      ]
     },
     "execution_count": 10,
=======
       "'Per Serving:  567 calories; protein 36g; carbohydrates 35.6g; fat 31.4g; cholesterol 129.9mg; sodium 943.1mg.'"
      ]
     },
     "execution_count": 11,
>>>>>>> 70e3b3afc6af6a788345bc50b421ebd5c2bb851e
     "metadata": {},
     "output_type": "execute_result"
    }
   ],
   "source": [
    "nutrition = soup.find(\"div\", class_=\"recipeNutritionSectionBlock\")\n",
    "nutrition = nutrition.text[1:-17]\n",
    "\n",
    "nutrition"
   ]
  },
  {
   "cell_type": "markdown",
   "metadata": {},
   "source": [
    "Methods"
   ]
  },
  {
   "cell_type": "code",
   "execution_count": 11,
   "metadata": {},
   "outputs": [
    {
     "name": "stdout",
     "output_type": "stream",
     "text": [
<<<<<<< HEAD
      "['For marinade: In a large bowl, combine the wine, cognac, onions, carrots, parsley, bay leaf, garlic, peppercorns and salt. Mix well and add the cubed beef. Cover and marinate in the refrigerator for 2 days.', 'Preheat oven to 300 degrees F (150 degrees C).', 'For Bourguignon: Strain the meat from the vegetables and marinade; reserve marinade. Dry meat with paper towels. Heat 2 tablespoons of the oil in a large skillet over medium high heat. Add the meat and saute for 10 minutes, or until browned on all sides. Transfer meat to a separate medium bowl with a slotted spoon and set aside.', 'In the same skillet, add the bacon and saute until lightly browned. Transfer the bacon to the bowl with the meat. Drain the skillet and return it to the heat. Pour a cup of marinade into the skillet to deglaze the skillet, scraping the bottom to loosen up all the little bits. Return this liquid to the reserved marinade.', \"Heat the remaining oil in the skillet. Add the onion and carrot from the marinade, along with the additional onion that you've chopped, and saute for 5 minutes, or until tender. Transfer this mixture to the bowl with the meat and bacon, again using a slotted spoon, and return skillet to the heat. Add the flour to the skillet, combining with the oil and stir until well mixed and brown, about 2 minutes.\", 'Now add the tomato paste, garlic, beef broth, reserved marinade and salt and pepper to taste. Bring to a boil and whisk to remove any flour lumps. Add this to the meat and vegetable mixture. Place entire mixture into a 9x13 baking dish.', 'Bake at 300 degrees F (150 degrees C) for 3 hours, stirring occasionally and adding water as needed. Season with salt and pepper to taste.', 'About 15 minutes before meat is done baking, melt butter in the skillet over medium high heat. Add the mushrooms and saute for 5 to 10 minutes, or until lightly browned. When meat is done, add the mushrooms to the meat mixture, stir well and let sit for about 15 minutes.']\n"
=======
      "Preheat oven to 375 degrees F (190 degrees C). Season ground beef with garlic powder. Heat a large skillet over medium-high heat. Cook and stir ground beef in the hot skillet until browned and crumbly, 5 to 7 minutes. Drain and discard grease. Pour spaghetti sauce, tomato sauce, and oregano into a large saucepan. Set aside. Heat olive oil in a large skillet over medium-high heat. Saute garlic and onions until softened and translucent, about 5 minutes. Place cooked onion-garlic mixture and cooked ground beef into the sauce mixture. Cover and let simmer for 15 to 20 minutes. Combine mozzarella and provolone cheeses in a medium bowl. Mix ricotta cheese, eggs, milk, and 1/2 teaspoon oregano together in a separate bowl. Layer a 9x13-inch baking pan with just enough sauce to cover the bottom of the pan. Lay three lasagna noodles in the pan over the sauce. Cover with more sauce, then with ricotta mixture then sprinkle with mozzarella/provolone mixture; repeat layering. Finish with a layer of noodles and remaining sauce. Sprinkle top with Parmesan cheese. Bake, covered, in the preheated oven for 30 minutes. Uncover and continue to bake until cheese is melted and top is golden, about 15 minutes more.\n"
>>>>>>> 70e3b3afc6af6a788345bc50b421ebd5c2bb851e
     ]
    }
   ],
   "source": [
    "methods = soup.find_all(\"div\", class_=\"section-body elementFont__body--paragraphWithin elementFont__body--linkWithin\")\n",
    "directions = ' '.join([x.text[:-2] for x in methods])\n",
    "directions = directions.split('.')\n",
    "print(directions)"
   ]
  },
  {
   "cell_type": "code",
<<<<<<< HEAD
   "execution_count": 12,
=======
   "execution_count": 6,
>>>>>>> 70e3b3afc6af6a788345bc50b421ebd5c2bb851e
   "metadata": {},
   "outputs": [
    {
     "name": "stdout",
     "output_type": "stream",
     "text": [
<<<<<<< HEAD
      "For marinade: In a large bowl, combine the wine, cognac, onions, carrots, parsley, bay leaf, garlic, peppercorns and salt. Mix well and add the cubed beef. Cover and marinate in the refrigerator for 2 days. ['marinate'] ['combine', 'mix', 'add']\n",
      "Preheat oven to 300 degrees F (150 degrees C). ['preheat'] []\n",
      "For Bourguignon: Strain the meat from the vegetables and marinade; reserve marinade. Dry meat with paper towels. Heat 2 tablespoons of the oil in a large skillet over medium high heat. Add the meat and saute for 10 minutes, or until browned on all sides. Transfer meat to a separate medium bowl with a slotted spoon and set aside. ['saute'] ['strain', 'add', 'brown', 'transfer', 'set']\n",
      "In the same skillet, add the bacon and saute until lightly browned. Transfer the bacon to the bowl with the meat. Drain the skillet and return it to the heat. Pour a cup of marinade into the skillet to deglaze the skillet, scraping the bottom to loosen up all the little bits. Return this liquid to the reserved marinade. ['saute'] ['add', 'brown', 'transfer', 'drain', 'return', 'pour', 'deglaze', 'scrape', 'loosen', 'return']\n",
      "Heat the remaining oil in the skillet. Add the onion and carrot from the marinade, along with the additional onion that you've chopped, and saute for 5 minutes, or until tender. Transfer this mixture to the bowl with the meat and bacon, again using a slotted spoon, and return skillet to the heat. Add the flour to the skillet, combining with the oil and stir until well mixed and brown, about 2 minutes. ['saute'] ['heat', 'remain', 'add', 'chop', 'transfer', 'use', 'return', 'add', 'combine', 'stir']\n",
      "Now add the tomato paste, garlic, beef broth, reserved marinade and salt and pepper to taste. Bring to a boil and whisk to remove any flour lumps. Add this to the meat and vegetable mixture. Place entire mixture into a 9x13 baking dish. ['add'] ['add', 'taste', 'bring', 'remove']\n",
      "Bake at 300 degrees F (150 degrees C) for 3 hours, stirring occasionally and adding water as needed. Season with salt and pepper to taste. ['bake'] ['stir', 'add', 'need', 'taste']\n",
      "About 15 minutes before meat is done baking, melt butter in the skillet over medium high heat. Add the mushrooms and saute for 5 to 10 minutes, or until lightly browned. When meat is done, add the mushrooms to the meat mixture, stir well and let sit for about 15 minutes. ['saute'] ['do', 'melt', 'add', 'brown', 'do', 'add', 'stir', 'let', 'sit']\n"
=======
      "Preheat oven to 375 degrees F (190 degrees C). ['preheat'] []\n",
      "Season ground beef with garlic powder. Heat a large skillet over medium-high heat. Cook and stir ground beef in the hot skillet until browned and crumbly, 5 to 7 minutes. Drain and discard grease. ['brown'] ['heat', 'cook', 'stir']\n",
      "Pour spaghetti sauce, tomato sauce, and oregano into a large saucepan. Set aside. ['set'] []\n",
      "Heat olive oil in a large skillet over medium-high heat. Saute garlic and onions until softened and translucent, about 5 minutes. Place cooked onion-garlic mixture and cooked ground beef into the sauce mixture. Cover and let simmer for 15 to 20 minutes. ['saute'] ['soften', 'cook', 'cook', 'cover', 'let']\n",
      "Combine mozzarella and provolone cheeses in a medium bowl. Mix ricotta cheese, eggs, milk, and 1/2 teaspoon oregano together in a separate bowl. ['mix'] ['combine', 'cheese']\n",
      "Layer a 9x13-inch baking pan with just enough sauce to cover the bottom of the pan. Lay three lasagna noodles in the pan over the sauce. Cover with more sauce, then with ricotta mixture then sprinkle with mozzarella/provolone mixture; repeat layering. Finish with a layer of noodles and remaining sauce. Sprinkle top with Parmesan cheese. ['sprinkle'] ['layer', 'bake', 'cover', 'lie', 'cover', 'sprinkle', 'finish', 'remain']\n",
      "Bake, covered, in the preheated oven for 30 minutes. Uncover and continue to bake until cheese is melted and top is golden, about 15 minutes more. ['bake'] ['cover', 'uncover', 'continue', 'melt']\n"
>>>>>>> 70e3b3afc6af6a788345bc50b421ebd5c2bb851e
     ]
    }
   ],
   "source": [
    "methods = []\n",
    "for i in range(len(directions)):\n",
    "    method = parse_method(directions[i], i)\n",
    "    methods.append(method)\n",
    "    print(method.direction, method.primary_cooking, method.secondary_cooking)"
   ]
<<<<<<< HEAD
  },
  {
   "cell_type": "code",
   "execution_count": 14,
   "metadata": {},
   "outputs": [
    {
     "name": "stdout",
     "output_type": "stream",
     "text": [
      "parsing tools on  For marinade: In a large bowl, combine the wine, cognac, onions, carrots, parsley, bay leaf, garlic, peppercorns and salt. Mix well and add the cubed beef. Cover and marinate in the refrigerator for 2 days.\n",
      "For marinade: In a large bowl, combine the wine, cognac, onions, carrots, parsley, bay leaf, garlic, peppercorns and salt. Mix well and add the cubed beef. Cover and marinate in the refrigerator for 2 days.\n",
      "parsing tools on  Preheat oven to 300 degrees F (150 degrees C).\n",
      "Preheat oven to 300 degrees F (150 degrees C).\n",
      "parsing tools on  For Bourguignon: Strain the meat from the vegetables and marinade; reserve marinade. Dry meat with paper towels. Heat 2 tablespoons of the oil in a large skillet over medium high heat. Add the meat and saute for 10 minutes, or until browned on all sides. Transfer meat to a separate medium bowl with a slotted spoon and set aside.\n",
      "For Bourguignon: Strain the meat from the vegetables and marinade; reserve marinade. Dry meat with paper towels. Heat 2 tablespoons of the oil in a large skillet over medium high heat. Add the meat and saute for 10 minutes, or until browned on all sides. Transfer meat to a separate medium bowl with a slotted spoon and set aside.\n",
      "parsing tools on  In the same skillet, add the bacon and saute until lightly browned. Transfer the bacon to the bowl with the meat. Drain the skillet and return it to the heat. Pour a cup of marinade into the skillet to deglaze the skillet, scraping the bottom to loosen up all the little bits. Return this liquid to the reserved marinade.\n",
      "In the same skillet, add the bacon and saute until lightly browned. Transfer the bacon to the bowl with the meat. Drain the skillet and return it to the heat. Pour a cup of marinade into the skillet to deglaze the skillet, scraping the bottom to loosen up all the little bits. Return this liquid to the reserved marinade.\n",
      "parsing tools on  Heat the remaining oil in the skillet. Add the onion and carrot from the marinade, along with the additional onion that you've chopped, and saute for 5 minutes, or until tender. Transfer this mixture to the bowl with the meat and bacon, again using a slotted spoon, and return skillet to the heat. Add the flour to the skillet, combining with the oil and stir until well mixed and brown, about 2 minutes.\n",
      "Heat the remaining oil in the skillet. Add the onion and carrot from the marinade, along with the additional onion that you've chopped, and saute for 5 minutes, or until tender. Transfer this mixture to the bowl with the meat and bacon, again using a slotted spoon, and return skillet to the heat. Add the flour to the skillet, combining with the oil and stir until well mixed and brown, about 2 minutes.\n",
      "parsing tools on  Now add the tomato paste, garlic, beef broth, reserved marinade and salt and pepper to taste. Bring to a boil and whisk to remove any flour lumps. Add this to the meat and vegetable mixture. Place entire mixture into a 9x13 baking dish.\n",
      "Now add the tomato paste, garlic, beef broth, reserved marinade and salt and pepper to taste. Bring to a boil and whisk to remove any flour lumps. Add this to the meat and vegetable mixture. Place entire mixture into a 9x13 baking dish.\n",
      "parsing tools on  Bake at 300 degrees F (150 degrees C) for 3 hours, stirring occasionally and adding water as needed. Season with salt and pepper to taste.\n",
      "Bake at 300 degrees F (150 degrees C) for 3 hours, stirring occasionally and adding water as needed. Season with salt and pepper to taste.\n",
      "parsing tools on  About 15 minutes before meat is done baking, melt butter in the skillet over medium high heat. Add the mushrooms and saute for 5 to 10 minutes, or until lightly browned. When meat is done, add the mushrooms to the meat mixture, stir well and let sit for about 15 minutes.\n",
      "About 15 minutes before meat is done baking, melt butter in the skillet over medium high heat. Add the mushrooms and saute for 5 to 10 minutes, or until lightly browned. When meat is done, add the mushrooms to the meat mixture, stir well and let sit for about 15 minutes.\n",
      "['whisk', 'spoon', 'oven', 'medium bowl', 'large skillet', 'skillet', 'bowl', 'slotted spoon', 'baking dish']\n"
     ]
    }
   ],
   "source": [
    "# tools = []\n",
    "# # print(directions)\n",
    "# for i in range(len(directions)):\n",
    "#     currtool = parse_tool(directions[i])\n",
    "#     tools.extend(currtool)\n",
    "\n",
    "# finaltools = list(set(tools))\n",
    "# print(finaltools)\n",
    "from parse_tools import parse_tool\n",
    "\n",
    "print(parse_tool(directions))"
   ]
  },
  {
   "cell_type": "code",
   "execution_count": 121,
   "metadata": {},
   "outputs": [],
   "source": [
    "sen = sp(\"into tofunoodle mixture\")"
   ]
  },
  {
   "cell_type": "code",
   "execution_count": 122,
   "metadata": {},
   "outputs": [
    {
     "data": {
      "text/plain": [
       "'NOUN'"
      ]
     },
     "execution_count": 122,
     "metadata": {},
     "output_type": "execute_result"
    }
   ],
   "source": [
    "sen[2].pos_"
   ]
  },
  {
   "cell_type": "code",
   "execution_count": 156,
   "metadata": {},
   "outputs": [
    {
     "data": {
      "text/plain": [
       "True"
      ]
     },
     "execution_count": 156,
     "metadata": {},
     "output_type": "execute_result"
    }
   ],
   "source": [
    "sentence = \"use an air fryer to cook chicken nuggets\"\n",
    "\"air fryer\" in sentence"
   ]
  },
  {
   "cell_type": "code",
   "execution_count": null,
   "metadata": {},
   "outputs": [],
   "source": []
=======
>>>>>>> 70e3b3afc6af6a788345bc50b421ebd5c2bb851e
  }
 ],
 "metadata": {
  "interpreter": {
   "hash": "eb1ea44037e5235d61b86dbe9de6d0c44288f57747242197dc31ad28d48545e4"
  },
  "kernelspec": {
   "display_name": "Python 3.7.0 ('venv': venv)",
   "language": "python",
   "name": "python3"
  },
  "language_info": {
   "codemirror_mode": {
    "name": "ipython",
    "version": 3
   },
   "file_extension": ".py",
   "mimetype": "text/x-python",
   "name": "python",
   "nbconvert_exporter": "python",
   "pygments_lexer": "ipython3",
   "version": "3.10.4"
  },
  "orig_nbformat": 4
 },
 "nbformat": 4,
 "nbformat_minor": 2
}
